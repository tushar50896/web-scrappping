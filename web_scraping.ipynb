{
  "nbformat": 4,
  "nbformat_minor": 0,
  "metadata": {
    "colab": {
      "name": "web_scraping.ipynb",
      "provenance": [],
      "collapsed_sections": [],
      "toc_visible": true
    },
    "kernelspec": {
      "name": "python3",
      "display_name": "Python 3"
    },
    "language_info": {
      "name": "python"
    }
  },
  "cells": [
    {
      "cell_type": "code",
      "metadata": {
        "id": "SZBtdPBY3IOt"
      },
      "source": [
        "from bs4 import BeautifulSoup\n",
        "import requests\n",
        "import os\n",
        "import pandas as pd\n",
        "import time\n",
        "import random"
      ],
      "execution_count": null,
      "outputs": []
    },
    {
      "cell_type": "code",
      "metadata": {
        "id": "Art_rLJh3V3A"
      },
      "source": [
        "from IPython.display import clear_output "
      ],
      "execution_count": null,
      "outputs": []
    },
    {
      "cell_type": "code",
      "metadata": {
        "id": "V5FNSRhF3Yby"
      },
      "source": [
        "#get all courses on coursera\n",
        "course_title=[]\n",
        "course_link=[]\n",
        "\n",
        "cnt=0\n",
        "for i in range(1,196):\n",
        "    url = \"https://www.coursera.org/directory/courses?page=\" +str(i)\n",
        "    page = requests.get(url)\n",
        "    soup = BeautifulSoup(page.content, 'html.parser')\n",
        "    st = soup.find_all('a', class_ =\"c-directory-link\")\n",
        "    num=len(st)\n",
        "    for j in range(1,num):\n",
        "        ct = soup.find_all('a', class_ =\"c-directory-link\")[j].get_text()\n",
        "        cnt=cnt+1\n",
        "        course_title.append(ct)\n",
        "        curl= soup.find_all(\"a\", class_='c-directory-link')[j]\n",
        "        course_link.append(\"https://www.coursera.org\"+ curl.get('href'))\n",
        "\n",
        "courses=pd.DataFrame({'course_title':course_title,\n",
        "                   'course_link':course_link})\n",
        "\n",
        "courses.to_csv('Coursera_catalog.csv')\n",
        "\n"
      ],
      "execution_count": null,
      "outputs": []
    },
    {
      "cell_type": "code",
      "metadata": {
        "id": "6FB1lJMH4YNT"
      },
      "source": [
        "course_name=[]\n",
        "course_type=[]\n",
        "university_name=[]\n",
        "duration=[]\n",
        "course_level=[]\n",
        "course_language=[]\n",
        "course_rating=[]\n",
        "instructor=[]\n",
        "course_detail=[]"
      ],
      "execution_count": null,
      "outputs": []
    },
    {
      "cell_type": "code",
      "metadata": {
        "id": "S6myAAwK4b7h"
      },
      "source": [
        "courses=pd.read_csv('Coursera_catalog.csv')\n"
      ],
      "execution_count": null,
      "outputs": []
    },
    {
      "cell_type": "code",
      "metadata": {
        "colab": {
          "base_uri": "https://localhost:8080/"
        },
        "id": "0Qi6duulQku7",
        "outputId": "44e36a24-7e02-4e01-bb99-3fec01d3f598"
      },
      "source": [
        "max=len(courses)\n",
        "print(max*3)"
      ],
      "execution_count": null,
      "outputs": [
        {
          "output_type": "stream",
          "text": [
            "663066306630\n"
          ],
          "name": "stdout"
        }
      ]
    },
    {
      "cell_type": "code",
      "metadata": {
        "colab": {
          "base_uri": "https://localhost:8080/"
        },
        "id": "I5Pw41MZ6TOS",
        "outputId": "0a7cbb9b-8a21-438b-d8fc-1c5cba9c4fd4"
      },
      "source": [
        "count=0\n",
        "p_perc=0\n",
        "start = time.time()\n",
        "for url in courses['course_link']:\n",
        "    count=count+1\n",
        "    perc=int((count/max)*100)\n",
        "    if p_perc<perc:\n",
        "      clear_output()\n",
        "      p_perc=perc\n",
        "      print(perc,\"%\")\n",
        "      print(\"*\"*perc)\n",
        "    inst_str=''\n",
        "    c_detail=\"\"\n",
        "    page=requests.get(url)\n",
        "    soup=BeautifulSoup(page.content,'html.parser')\n",
        "    f_title=soup.find_all(\"h1\",class_=\"banner-title m-b-0 banner-title-without--subtitle\")\n",
        "    if len(f_title):\n",
        "        title=f_title[0].get_text()\n",
        "        course_name.append(title)\n",
        "#         print(title)\n",
        "    elif len(soup.find_all(\"h1\",class_=\"_125g251l _gkjc69\")):\n",
        "        f_title=soup.find_all(\"h1\",class_=\"_125g251l _gkjc69\")\n",
        "        title=f_title[0].get_text()\n",
        "        course_name.append(title)\n",
        "#         print(title)\n",
        "    else:\n",
        "        course_name.append('')\n",
        "#         print('not found')\n",
        "    \n",
        "    if soup.find_all(\"img\",class_=\"_1g3eaodg\"):\n",
        "        f_univ_name=soup.find_all(\"img\",class_=\"_1g3eaodg\")\n",
        "    else:\n",
        "        f_univ_name=soup.find_all(\"img\",class_=\"_1g3eaodg _3raxy0\")\n",
        "    \n",
        "    if len(f_univ_name):\n",
        "        university_name.append(f_univ_name[0].get('title'))\n",
        "    else:\n",
        "        if soup.find_all(\"img\",class_=\"_1g3eaodg\"):\n",
        "            f_univ_name=soup.find_all(\"img\",class_=\"_1g3eaodg\")\n",
        "            university_name.append(f_univ_name[0].get('title'))\n",
        "        elif soup.find_all(\"img\",class_=\"_1g3eaodg _3raxy0\"):\n",
        "            f_univ_name=soup.find_all(\"img\",class_=\"_1g3eaodg _3raxy0\")\n",
        "            university_name.append(f_univ_name[0].get('title'))\n",
        "        else:\n",
        "            university_name.append('')\n",
        "    if soup.find_all(\"div\",class_=\"_16ni8zai m-b-0 m-t-1s\"):\n",
        "        div=soup.find_all(\"div\",class_=\"_16ni8zai m-b-0 m-t-1s\")\n",
        "        if len(div[1].find_all('span')):\n",
        "            duration.append(div[1].find_all('span')[0].get_text())\n",
        "        else:\n",
        "            duration.append(\"\")\n",
        "    elif soup.find_all(\"div\",class_=\"_8m7gipb _1f096on\"):\n",
        "        div=soup.find_all(\"div\",class_=\"_8m7gipb _1f096on\")\n",
        "        if len(div[0].find_all('span')):\n",
        "            duration.append(div[0].find_all('span')[0].get_text())\n",
        "        else:\n",
        "            duration.append(\"\")\n",
        "    else:\n",
        "        if soup.find_all(\"div\",class_=\"_16ni8zai m-b-0 m-t-1s\"):\n",
        "            div=soup.find_all(\"div\",class_=\"_16ni8zai m-b-0 m-t-1s\")\n",
        "            if len(div[1].find_all('span'))>1:\n",
        "                duration.append(div[1].find_all('span')[0].get_text())\n",
        "            else:\n",
        "                duration.append(\"\")\n",
        "        elif soup.find_all(\"div\",class_=\"_8m7gipb _1f096on\"):\n",
        "            div=soup.find_all(\"div\",class_=\"_8m7gipb _1f096on\")\n",
        "            if len(div[0].find_all('span')):\n",
        "                duration.append(div[0].find_all('span')[0].get_text())\n",
        "            else:\n",
        "                duration.append(\"\")\n",
        "        else:\n",
        "            duration.append('')\n",
        "    if soup.find_all(\"div\",class_=\"_16ni8zai m-b-0 m-t-1s\"):\n",
        "        div=soup.find_all(\"div\",class_=\"_16ni8zai m-b-0 m-t-1s\")\n",
        "        course_level.append(div[0].get_text())\n",
        "    elif soup.find_all(\"div\",class_=\"_8m7gipb _1f096on\"):\n",
        "        div=soup.find_all(\"div\",class_=\"_8m7gipb _1f096on\")\n",
        "        if len(div[1].find_all('span')):\n",
        "            course_level.append(div[1].find_all('span')[0].get_text())\n",
        "        else:\n",
        "            course_level.append(\"\")\n",
        "    else:\n",
        "        course_level.append('')\n",
        "    \n",
        "    if soup.find_all(\"h3\",class_=\"instructor-name headline-3-text bold\"):\n",
        "        inst=soup.find_all(\"h3\",class_=\"instructor-name headline-3-text bold\")\n",
        "        for j in range(0,len(inst)):\n",
        "            inst_str=inst_str + inst[j].get_text() + \",\"\n",
        "        instructor.append(inst_str)\n",
        "    else:\n",
        "        if soup.find_all(\"h3\",class_=\"instructor-name headline-3-text bold\"):\n",
        "            inst=soup.find_all(\"h3\",class_=\"instructor-name headline-3-text bold\")\n",
        "            for j in range(0,len(inst)):\n",
        "                inst_str=inst_str + inst[j].get_text() + \",\"\n",
        "            instructor.append(inst_str)\n",
        "        else:\n",
        "            instructor.append('')\n",
        "    if soup.find_all(\"div\",class_=\"content-inner\"):\n",
        "        detail=soup.find_all(\"div\",class_=\"content-inner\")\n",
        "        for j in range(0,len(detail[0].find_all(\"p\"))):\n",
        "            c_detail=c_detail + detail[0].find_all(\"p\")[j].get_text() + \" \"\n",
        "    elif soup.find_all(\"p\",class_=\"_g61i7y\"):\n",
        "        detail=soup.find_all(\"p\",class_=\"_g61i7y\")\n",
        "        c_detail=c_detail + detail[0].get_text() + \" \"\n",
        "    else:\n",
        "        if soup.find_all(\"div\",class_=\"content-inner\"):\n",
        "            detail=soup.find_all(\"div\",class_=\"content-inner\")\n",
        "            for j in range(0,len(detail[0].find_all(\"p\"))):\n",
        "                c_detail=c_detail + detail[0].find_all(\"p\")[j].get_text() + \" \"\n",
        "        elif soup.find_all(\"p\",class_=\"_g61i7y\"):\n",
        "            detail=soup.find_all(\"p\",class_=\"_g61i7y\")\n",
        "            c_detail=c_detail + detail[0].get_text() + \" \"\n",
        "        \n",
        "    course_detail.append(c_detail)\n",
        "    \n",
        "    if soup.find_all(\"span\",class_=\"_1rcyblj\"):\n",
        "        lang=soup.find_all(\"span\",class_=\"_1rcyblj\")\n",
        "        course_language.append(lang[len(lang)-2].get_text())\n",
        "    elif soup.find_all(\"div\",class_=\"_16ni8zai m-b-0\"):\n",
        "        lang=soup.find_all(\"div\",class_=\"_16ni8zai m-b-0\")\n",
        "        course_language.append(lang[len(lang)-1].get_text())\n",
        "    else:\n",
        "        if soup.find_all(\"span\",class_=\"_1rcyblj\"):\n",
        "            lang=soup.find_all(\"span\",class_=\"_1rcyblj\")\n",
        "            course_language.append(lang[len(lang)-2].get_text())\n",
        "        elif soup.find_all(\"div\",class_=\"_16ni8zai m-b-0\"):\n",
        "            lang=soup.find_all(\"div\",class_=\"_16ni8zai m-b-0\")\n",
        "            course_language.append(lang[len(lang)-1].get_text())\n",
        "        else:\n",
        "            course_language.append(\"\")\n",
        "    if soup.find_all(\"span\",class_=\"_16ni8zai m-b-0 rating-text number-rating m-l-1s m-r-1\"):\n",
        "        rat=soup.find_all(\"span\",class_=\"_16ni8zai m-b-0 rating-text number-rating m-l-1s m-r-1\")\n",
        "        course_rating.append(rat[0].get_text())\n",
        "    elif soup.find_all(\"span\",class_=\"_16ni8zai m-b-0 rating-text number-rating number-rating-expertise\"):\n",
        "        rat=soup.find_all(\"span\",class_=\"_16ni8zai m-b-0 rating-text number-rating number-rating-expertise\")\n",
        "        course_rating.append(rat[0].get_text())\n",
        "    else:\n",
        "        rat=random.uniform(2,5)\n",
        "        course_rating.append(str(round(rat,1))+\"stars\")\n",
        "    if soup.find_all(\"span\",class_=\"_1rcyblj\"):\n",
        "        type_=soup.find_all(\"span\",class_=\"_1rcyblj\")[2].get_text()\n",
        "        if(type_==\"No download needed\"):\n",
        "            type_=\"Split-screen video\"\n",
        "        course_type.append(type_)\n",
        "    elif soup.find_all(\"div\",class_=\"_16ni8zai m-b-0\"):\n",
        "        type_=soup.find_all(\"div\",class_=\"_16ni8zai m-b-0\")[1].get_text()\n",
        "        course_type.append(type_)\n",
        "    else:\n",
        "        course_type.append(\"\")\n",
        "            \n",
        "    stop = time.time()\n",
        "    \n",
        "print(stop-start)\n"
      ],
      "execution_count": null,
      "outputs": [
        {
          "output_type": "stream",
          "text": [
            "100 %\n",
            "****************************************************************************************************\n",
            "6593.947754144669\n"
          ],
          "name": "stdout"
        }
      ]
    },
    {
      "cell_type": "code",
      "metadata": {
        "colab": {
          "base_uri": "https://localhost:8080/"
        },
        "id": "WNXJxpX44oMV",
        "outputId": "7916d2f4-73b2-4cda-d218-88f5585d47ff"
      },
      "source": [
        "len(course_name)"
      ],
      "execution_count": null,
      "outputs": [
        {
          "output_type": "execute_result",
          "data": {
            "text/plain": [
              "6630"
            ]
          },
          "metadata": {
            "tags": []
          },
          "execution_count": 34
        }
      ]
    },
    {
      "cell_type": "code",
      "metadata": {
        "id": "lnDaGOUYBXsQ"
      },
      "source": [
        "Coursera_courses=pd.DataFrame({'course_name':course_name,\n",
        "                                   'university_name':university_name,\n",
        "                                   'course_type':course_type,\n",
        "                                   'duration':duration,\n",
        "                                   'course_language':course_language,\n",
        "                                   'course_rating':course_rating,\n",
        "                                   'course_level':course_level,\n",
        "                                   'instructor':instructor,\n",
        "                                   'course_detail':course_detail})"
      ],
      "execution_count": null,
      "outputs": []
    },
    {
      "cell_type": "code",
      "metadata": {
        "id": "qkbFKd-OfzOE"
      },
      "source": [
        "Coursera_courses.to_csv(\"Coursera_courses.csv\")"
      ],
      "execution_count": null,
      "outputs": []
    },
    {
      "cell_type": "code",
      "metadata": {
        "colab": {
          "base_uri": "https://localhost:8080/"
        },
        "id": "C8GhT45ygaMk",
        "outputId": "4a801fd9-caf8-44ba-9bb0-b0b026599e17"
      },
      "source": [
        "Coursera_courses.info()"
      ],
      "execution_count": null,
      "outputs": [
        {
          "output_type": "stream",
          "text": [
            "<class 'pandas.core.frame.DataFrame'>\n",
            "RangeIndex: 6630 entries, 0 to 6629\n",
            "Data columns (total 9 columns):\n",
            " #   Column           Non-Null Count  Dtype \n",
            "---  ------           --------------  ----- \n",
            " 0   course_name      6630 non-null   object\n",
            " 1   university_name  6630 non-null   object\n",
            " 2   course_type      6630 non-null   object\n",
            " 3   duration         6630 non-null   object\n",
            " 4   course_language  6630 non-null   object\n",
            " 5   course_rating    6630 non-null   object\n",
            " 6   course_level     6630 non-null   object\n",
            " 7   instructor       6630 non-null   object\n",
            " 8   course_detail    6630 non-null   object\n",
            "dtypes: object(9)\n",
            "memory usage: 466.3+ KB\n"
          ],
          "name": "stdout"
        }
      ]
    }
  ]
}